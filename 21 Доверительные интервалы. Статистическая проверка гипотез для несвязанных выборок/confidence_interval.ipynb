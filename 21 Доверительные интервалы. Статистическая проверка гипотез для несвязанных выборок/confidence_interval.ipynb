{
 "cells": [
  {
   "cell_type": "markdown",
   "metadata": {},
   "source": [
    "**Домашнее задание**  \n",
    "\n",
    "1. Найдите минимально необходимый объем выборки для построения интервальной оценки среднего с точностью ∆ = 3, дисперсией σ^2 = 225 и уровнем доверия β = 0.95.\n"
   ]
  },
  {
   "cell_type": "markdown",
   "metadata": {},
   "source": [
    "Минимальный объем выборки можно найти по формуле:  \n",
    "$n = (\\frac {Z_\\alpha \\cdot \\sigma}{\\varDelta})^2 = (\\frac {Z_\\alpha}{\\varDelta})^2 \\cdot \\sigma^2$.   \n",
    "При $\\beta = 0.95$ значение $Z_\\alpha = 1,96$.  \n",
    "Отсюда:  \n",
    "$n = (\\frac {1,96}{3})^2 \\cdot 225 = 96,04$.  \n",
    "Ну и, поскольку, n должно быть целым, ответом будет n = 97."
   ]
  },
  {
   "cell_type": "markdown",
   "metadata": {},
   "source": [
    "2. Вам даны две выборки роста мужчин и женщин. Докажите, используя t-Тест Стьюдента, что различия между выборками незначительно, если уровень значимости равен 0.001.\n",
    "\n",
    "```python\n",
    "population_men  =stats.norm.rvs(loc=19,scale=171,size=11000000)  # Выборка мужчин со средним ростом 171\n",
    "population_women=stats.norm.rvs(loc=16,scale=165,size=12000)  # Выборка женщин со средним ростом 165\n",
    "```"
   ]
  },
  {
   "cell_type": "code",
   "execution_count": 1,
   "metadata": {},
   "outputs": [
    {
     "name": "stdout",
     "output_type": "stream",
     "text": [
      "Нулевая гипотеза: выборки имеют одинаковые средние.\n",
      "Значение p-value = 9.769915790702509e-247.\n",
      "Это значение существенно меньше уровня значимости α = 0.001.\n",
      "Поэтому отклоняем нулевую гипотезу.\n",
      "Это говорит о том, что выборки имеют разные средние.\n",
      "А значит, при p-value = α различие между выборками было бы незначительным.\n"
     ]
    }
   ],
   "source": [
    "import numpy as np\n",
    "import scipy as sp\n",
    "import pandas as pd\n",
    "import scipy.stats as stats\n",
    "import matplotlib.pyplot as plt\n",
    "import matplotlib.patches as patches\n",
    "from IPython.display import display, HTML\n",
    "\n",
    "# тут, вероятно, перепутаны значения: loc = среднее, scale - отклонение, иначе рост отрицательный\n",
    "population_men = stats.norm.rvs(loc=171,scale=19,size=11000000)  # Выборка мужчин со средним ростом 171\n",
    "population_women = stats.norm.rvs(loc=165,scale=16,size=12000)  # Выборка женщин со средним ростом 165\n",
    "\n",
    "t, pvalue = stats.ttest_ind(population_men, population_women)\n",
    "print(\"Нулевая гипотеза: выборки имеют одинаковые средние.\")\n",
    "print(f\"Значение p-value = {pvalue}.\")\n",
    "print(\"Это значение существенно меньше уровня значимости α = 0.001.\")\n",
    "print(\"Поэтому отклоняем нулевую гипотезу.\")\n",
    "print(\"Это говорит о том, что выборки имеют разные средние.\")\n",
    "print(\"А значит, при p-value = α различие между выборками было бы незначительным.\")"
   ]
  },
  {
   "cell_type": "markdown",
   "metadata": {},
   "source": [
    "3. Определите объем необходимой выборки для исследования среднего чека за кофе в случайном городе, если известно, что в этом городе стандартное отклонение = 150, уровень доверия = 95%. Погрешность 50 рублей. "
   ]
  },
  {
   "cell_type": "markdown",
   "metadata": {},
   "source": [
    "Минимальный объем выборки можно найти по формуле:  \n",
    "$n = (\\frac {Z_\\alpha \\cdot \\sigma}{\\varDelta})^2$.   \n",
    "При $\\beta = 0.95$ значение $Z_\\alpha = 1,96$.  \n",
    "Отсюда:  \n",
    "$n = (\\frac {1,96 \\cdot 150}{50})^2 = 34,5744$.  \n",
    "Ну и, поскольку, n должно быть целым, ответом будет n = 35."
   ]
  },
  {
   "cell_type": "markdown",
   "metadata": {},
   "source": [
    "4.  Представьте, что вы хотите разоблачить \"волшебника\", который считает, что умеет предсказывать погоду на завтра. Отвечая просто: дождь или солнце. Вы пронаблюдали за ответами \"волшебника\" в течении какого периода времени и получили такие результаты (см.ниже). Можно ли сказать, что маг действительно умеет предсказывать погоду, если уровнь значимости принять за 0.05 ?\n",
    "\n",
    "```python\n",
    "observations = pd.DataFrame([[25,36],[15,44]],\n",
    "                            index=['Дождь','Солнце'],\n",
    "                            columns=['Ответ волшебника','Реальность'])\n",
    "oddsratio, pvalue = sp.stats.fisher_exact('Таблица')  # Возможно вам пригодится эта функция.\n",
    "```"
   ]
  },
  {
   "cell_type": "code",
   "execution_count": 2,
   "metadata": {},
   "outputs": [
    {
     "data": {
      "text/html": [
       "<table border=\"1\" class=\"dataframe\">\n",
       "  <thead>\n",
       "    <tr style=\"text-align: right;\">\n",
       "      <th></th>\n",
       "      <th>Ответ волшебника</th>\n",
       "      <th>Реальность</th>\n",
       "    </tr>\n",
       "  </thead>\n",
       "  <tbody>\n",
       "    <tr>\n",
       "      <th>Дождь</th>\n",
       "      <td>25</td>\n",
       "      <td>36</td>\n",
       "    </tr>\n",
       "    <tr>\n",
       "      <th>Солнце</th>\n",
       "      <td>15</td>\n",
       "      <td>44</td>\n",
       "    </tr>\n",
       "  </tbody>\n",
       "</table>"
      ],
      "text/plain": [
       "<IPython.core.display.HTML object>"
      ]
     },
     "metadata": {},
     "output_type": "display_data"
    },
    {
     "name": "stdout",
     "output_type": "stream",
     "text": [
      "Нулевая гипотеза: волшебник настоящий.\n",
      "По критерию Фишера:\n",
      "\tp-value = 0.08323639416753109.\n",
      "\tВывод: волшебник настоящий.\n",
      "По критерию Пирсона:\n",
      "\tp-value = 0.10653453263099501.\n",
      "\tВывод: волшебник настоящий.\n"
     ]
    }
   ],
   "source": [
    "table = [[25,36],[15,44]]\n",
    "observations = pd.DataFrame(table,\n",
    "                            index=['Дождь','Солнце'],\n",
    "                            columns=['Ответ волшебника','Реальность'])\n",
    "\n",
    "display(HTML(observations.to_html()))\n",
    "\n",
    "print(\"Нулевая гипотеза: волшебник настоящий.\")\n",
    "\n",
    "print(\"По критерию Фишера:\")\n",
    "oddsratio, pvalue = sp.stats.fisher_exact(table)  # Возможно вам пригодится эта функция.\n",
    "print(f\"\\tp-value = {pvalue}.\")\n",
    "if pvalue < 0.05:\n",
    "    print(\"\\tВывод: волшебник - мошенник.\")\n",
    "else:\n",
    "    print(\"\\tВывод: волшебник настоящий.\")\n",
    "    \n",
    "print(\"По критерию Пирсона:\")\n",
    "chi2, pvalue, do,expected = sp.stats.chi2_contingency(table)\n",
    "print(f\"\\tp-value = {pvalue}.\")\n",
    "if pvalue < 0.05:\n",
    "    print(\"\\tВывод: волшебник - мошенник.\")\n",
    "else:\n",
    "    print(\"\\tВывод: волшебник настоящий.\")"
   ]
  },
  {
   "cell_type": "markdown",
   "metadata": {},
   "source": [
    "Используя функцию mean_confidence_interval(data, confidence), постройте доверительный интервал с уровнем доверия 90% для выборки:\n",
    "```python\n",
    "data = [1,5,8,9,6,7,5,6,7,8,5,6,7,0,9,8,4,6,7,9,8,6,5,7,8,9,6,7,5,8,6,7,9,5]\n",
    "```"
   ]
  },
  {
   "cell_type": "code",
   "execution_count": 3,
   "metadata": {},
   "outputs": [
    {
     "data": {
      "image/png": "[encoded data removed]",
      "text/plain": [
       "<Figure size 432x288 with 1 Axes>"
      ]
     },
     "metadata": {
      "needs_background": "light"
     },
     "output_type": "display_data"
    },
    {
     "name": "stdout",
     "output_type": "stream",
     "text": [
      "Доверительный интервал: (5.843062450077532; 7.039290491098939).\n"
     ]
    }
   ],
   "source": [
    "def mean_confidence_interval(data, confidence=0.95):\n",
    "    n = len(data)\n",
    "    m, se = np.mean(data), sp.stats.sem(data)\n",
    "    h = se * sp.stats.t.ppf((1 + confidence) / 2, n)\n",
    "    return m - h, m, m + h\n",
    "\n",
    "data = [1,5,8,9,6,7,5,6,7,8,5,6,7,0,9,8,4,6,7,9,8,6,5,7,8,9,6,7,5,8,6,7,9,5]\n",
    "\n",
    "ymin = -0.2\n",
    "ymax = 7.2\n",
    "conf = mean_confidence_interval(data, 0.9)\n",
    "x1 = [conf[0] for i in range(1000)]\n",
    "x2 = [conf[2] for i in range(1000)]\n",
    "m = [conf[1] for i in range(1000)]\n",
    "y = np.linspace(ymin, ymax, 1000)\n",
    "\n",
    "fig, ax = plt.subplots()\n",
    "plt.hist(data)\n",
    "plt.scatter(x1, y, c=\"r\", zorder=3, s=5, alpha=0.5)\n",
    "plt.scatter(x2, y, c=\"r\", zorder=3, s=5, alpha=0.5)\n",
    "plt.scatter(m, y, c=\"g\", zorder=3, s=5, alpha=0.5)\n",
    "rect = patches.Rectangle((conf[0], ymin), conf[2] - conf[0], ymax - ymin, linewidth=1, edgecolor=\"y\",facecolor=\"y\", zorder=2, alpha=0.5)\n",
    "ax.add_patch(rect)\n",
    "plt.show()\n",
    "\n",
    "print(f\"Доверительный интервал: ({conf[0]}; {conf[2]}).\")"
   ]
  },
  {
   "cell_type": "markdown",
   "metadata": {},
   "source": [
    "6. Принадлежит ли выборка data_1 и data_2 одному множеству? Оцените это с помощью известных вам тестов проверки гипотез.\n",
    "\n",
    "```python\n",
    "data_1 = [4,5,8,9,6,7,5,6,7,8,5,6,7,0,9,8,4,6,7,9,8,6,5,7,8,9,6,7,5,8,6,7,9,5,10]\n",
    "data_2 = [8,5,6,7,0,1,8,4,6,7,0,2,6,5,7,5,3,5,3,5,3,5,5,8,7,6,4,5,3,5,4,6,4,5,3,2,6,4,2,6,1,0,4,3,5,4,3,4,5,4,3,4,5,4,3,4,5,3,4,4,1,2,4,3,1,2,4,3,2,1,5,3,4,6,4,5,3,2,4,5,6,4,3,1,3,5,3,4,4,4,2,5,3]\n",
    "```"
   ]
  },
  {
   "cell_type": "code",
   "execution_count": 4,
   "metadata": {},
   "outputs": [
    {
     "name": "stdout",
     "output_type": "stream",
     "text": [
      "Нулевая гипотеза: выборки принадлежат одному множеству.\n",
      "p-value = 2.1159475572725764e-11.\n",
      "Выборки не принадлежат одному множеству.\n"
     ]
    },
    {
     "data": {
      "image/png": "[encoded data removed]",
      "text/plain": [
       "<Figure size 432x288 with 1 Axes>"
      ]
     },
     "metadata": {
      "needs_background": "light"
     },
     "output_type": "display_data"
    }
   ],
   "source": [
    "data_1 = [4,5,8,9,6,7,5,6,7,8,5,6,7,0,9,8,4,6,7,9,8,6,5,7,8,9,6,7,5,8,6,7,9,5,10]\n",
    "data_2 = [8,5,6,7,0,1,8,4,6,7,0,2,6,5,7,5,3,5,3,5,3,5,5,8,7,6,4,5,3,5,4,6,4,5,3,2,6,4,2,6,1,0,4,3,5,4,3,4,5,4,3,4,5,4,3,4,5,3,4,4,1,2,4,3,1,2,4,3,2,1,5,3,4,6,4,5,3,2,4,5,6,4,3,1,3,5,3,4,4,4,2,5,3]\n",
    "\n",
    "print(\"Нулевая гипотеза: выборки принадлежат одному множеству.\")\n",
    "t, pvalue = stats.ttest_ind(data_1, data_2)\n",
    "print(f\"p-value = {pvalue}.\")\n",
    "if pvalue < 0.05:\n",
    "    print(\"Выборки не принадлежат одному множеству.\")\n",
    "else:\n",
    "    print(\"Выборки принадлежат одному множеству.\")\n",
    "\n",
    "plt.hist(data_1, bins=11)\n",
    "plt.hist(data_2, bins=11, color=\"r\")\n",
    "plt.show()"
   ]
  },
  {
   "cell_type": "markdown",
   "metadata": {},
   "source": [
    "7. На примере датасета про жилье в New York City, мы сталкивались с примером, когда переменная имеет не совсем нормальное распределение.\n",
    "\n",
    "Предположим, Вы сформировали две гипотезы: Нулевая гипотеза - распределение нормальное, Альтернативная гипотеза - распределение не нормальное.\n",
    "\n",
    "Допустим, вы применили какой-то тест (сейчас неважно какой), который показал уровень значимости (p-value) = 0.03. Каковы будут ваши выводы? Будем считать что у нас нормальное распределение или все-таки нет? Вопрос без подвоха)"
   ]
  },
  {
   "cell_type": "markdown",
   "metadata": {},
   "source": [
    "**Решение:**  \n",
    "Все зависит от уровня значимости α. Если p-value оказалось меньше α, то отклоняем нулевую гипотезу, т.е. распределение не будет нормальным. В противном случае, мы не можем отклонить нулевую гипотезу. В общем случае за уровень значимости принимается значение α = 0.05, тогда распределение нельзя считать нормальным."
   ]
  },
  {
   "cell_type": "markdown",
   "metadata": {},
   "source": [
    "8. Первая выборка — это пациенты, которых лечили препаратом А. Вторая выборка — пациенты, которых лечили препаратом Б. Значения в выборках — это некоторая характеристика эффективности лечения (уровень метаболита в крови, температура через три дня после начала лечения, срок выздоровления, число койко-дней, и т.д.)\n",
    "\n",
    "а) Требуется выяснить, имеется ли значимое различие эффективности препаратов А и Б, или различия являются чисто случайными и объясняются «естественной» дисперсией выбранной характеристики? (уровень значимости принять за 5% или 0.05)\n",
    "\n",
    "b) При каком минимальном P-values различия были бы уже значимы?\n",
    "\n",
    "```python\n",
    "np.random.seed(11)\n",
    "A = stats.norm.rvs(scale=50,loc=10,size=300)\n",
    "B = A+stats.norm.rvs(scale=10,loc=-1.25,size=300)\n",
    "```"
   ]
  },
  {
   "cell_type": "code",
   "execution_count": 5,
   "metadata": {},
   "outputs": [
    {
     "name": "stdout",
     "output_type": "stream",
     "text": [
      "Нулевая гипотеза: эффективность не различается.\n",
      "p-value = 0.740034005650458.\n",
      "Эффективность мало различается.\n",
      "При p-value = α = 0.05 различия были бы уже значимыми.\n"
     ]
    },
    {
     "data": {
      "image/png": "[encoded data removed]",
      "text/plain": [
       "<Figure size 432x288 with 1 Axes>"
      ]
     },
     "metadata": {
      "needs_background": "light"
     },
     "output_type": "display_data"
    }
   ],
   "source": [
    "np.random.seed(11)\n",
    "A = stats.norm.rvs(scale=50,loc=10,size=300)\n",
    "B = A+stats.norm.rvs(scale=10,loc=-1.25,size=300)\n",
    "\n",
    "print(\"Нулевая гипотеза: эффективность не различается.\")\n",
    "t, pvalue = stats.ttest_ind(A, B)\n",
    "print(f\"p-value = {pvalue}.\")\n",
    "if pvalue < 0.05:\n",
    "    print(\"Эффективность различается.\")\n",
    "else:\n",
    "    print(\"Эффективность мало различается.\")\n",
    "    \n",
    "print(\"При p-value = α = 0.05 различия были бы уже значимыми.\")\n",
    "\n",
    "plt.hist(A, label=\"A\")\n",
    "plt.hist(B, label=\"B\", color=\"r\", alpha=0.7)\n",
    "plt.legend()\n",
    "plt.show()"
   ]
  }
 ],
 "metadata": {
  "kernelspec": {
   "display_name": "Python 3",
   "language": "python",
   "name": "python3"
  },
  "language_info": {
   "codemirror_mode": {
    "name": "ipython",
    "version": 3
   },
   "file_extension": ".py",
   "mimetype": "text/x-python",
   "name": "python",
   "nbconvert_exporter": "python",
   "pygments_lexer": "ipython3",
   "version": "3.7.6"
  }
 },
 "nbformat": 4,
 "nbformat_minor": 4
}
