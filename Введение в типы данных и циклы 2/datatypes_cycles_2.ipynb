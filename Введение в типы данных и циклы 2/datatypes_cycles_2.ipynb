{
 "cells": [
  {
   "cell_type": "markdown",
   "metadata": {},
   "source": [
    "**Задание 1**. Дан список с визитами по городам и странам. \n",
    "Напишите код, который возвращает отфильтрованный список geo_logs, содержащий только визиты из России."
   ]
  },
  {
   "cell_type": "code",
   "execution_count": 17,
   "metadata": {},
   "outputs": [
    {
     "data": {
      "text/plain": [
       "[{'visit1': ['Москва', 'Россия']},\n",
       " {'visit3': ['Владимир', 'Россия']},\n",
       " {'visit7': ['Тула', 'Россия']},\n",
       " {'visit8': ['Тула', 'Россия']},\n",
       " {'visit9': ['Курск', 'Россия']},\n",
       " {'visit10': ['Архангельск', 'Россия']}]"
      ]
     },
     "execution_count": 17,
     "metadata": {},
     "output_type": "execute_result"
    }
   ],
   "source": [
    "geo_logs = [\n",
    "    {'visit1': ['Москва', 'Россия']},\n",
    "    {'visit2': ['Дели', 'Индия']},\n",
    "    {'visit3': ['Владимир', 'Россия']},\n",
    "    {'visit4': ['Лиссабон', 'Португалия']},\n",
    "    {'visit5': ['Париж', 'Франция']},\n",
    "    {'visit6': ['Лиссабон', 'Португалия']},\n",
    "    {'visit7': ['Тула', 'Россия']},\n",
    "    {'visit8': ['Тула', 'Россия']},\n",
    "    {'visit9': ['Курск', 'Россия']},\n",
    "    {'visit10': ['Архангельск', 'Россия']}\n",
    "]\n",
    "\n",
    "i = 0\n",
    "while i < len(geo_logs):\n",
    "    for key, val in geo_logs[i].items():\n",
    "        if 'Россия' not in val:\n",
    "            del geo_logs[i]\n",
    "        else:\n",
    "            i += 1\n",
    "geo_logs"
   ]
  },
  {
   "cell_type": "markdown",
   "metadata": {},
   "source": [
    "**Задание 2**. Выведите на экран все уникальные гео-ID из значений словаря ids. Т. е. список вида [213, 15, 54, 119, 98, 35]"
   ]
  },
  {
   "cell_type": "code",
   "execution_count": 24,
   "metadata": {},
   "outputs": [
    {
     "name": "stdout",
     "output_type": "stream",
     "text": [
      "[213, 15, 54, 119, 98, 35]\n"
     ]
    }
   ],
   "source": [
    "ids = {'user1': [213, 213, 213, 15, 213], \n",
    "       'user2': [54, 54, 119, 119, 119], \n",
    "       'user3': [213, 98, 98, 35]}\n",
    "\n",
    "# вариант 1: через список\n",
    "s = []\n",
    "for lst in ids.values():\n",
    "    for id in lst:\n",
    "        if id not in s:\n",
    "            s.append(id)\n",
    "print(s)\n",
    "\n",
    "# вариант 2: через множество\n",
    "# s = set()\n",
    "# for lst in ids.values():\n",
    "#     s.update(lst)\n",
    "# print(s)"
   ]
  },
  {
   "cell_type": "markdown",
   "metadata": {},
   "source": [
    "**Задание 3**. Дан список поисковых запросов. Получить распределение количества слов в них. \n",
    "Т. е. поисковых запросов из одного - слова 5%, из двух - 7%, из трех - 3% и т.д."
   ]
  },
  {
   "cell_type": "code",
   "execution_count": 25,
   "metadata": {},
   "outputs": [
    {
     "name": "stdout",
     "output_type": "stream",
     "text": [
      "Запросов, содержащих 2 слова: 43%\n",
      "Запросов, содержащих 3 слова: 57%\n"
     ]
    }
   ],
   "source": [
    "queries = [\n",
    "    'смотреть сериалы онлайн',\n",
    "    'новости спорта',\n",
    "    'афиша кино',\n",
    "    'курс доллара',\n",
    "    'сериалы этим летом',\n",
    "    'курс по питону',\n",
    "    'сериалы про спорт',\n",
    "]\n",
    "\n",
    "total = 0\n",
    "map_ = {}\n",
    "for query in queries:\n",
    "    count = len(query.split())\n",
    "    map_[count] = map_.get(count, 0) + 1\n",
    "for val in map_.values():\n",
    "    total += val\n",
    "\n",
    "if len(queries) == 0:\n",
    "    print(\"Нет поисковых запросов\")\n",
    "else:\n",
    "    ordered_keys = sorted(map_.keys())\n",
    "    for key in ordered_keys:\n",
    "        val = round(map_.get(key) * 100 / total)\n",
    "        if key % 10 == 1 and key % 100 != 11:     # добавим немного языкового задротства =)\n",
    "            end = \"о\"\n",
    "        elif key % 10 in range(2, 5) and key % 100 not in range(12, 15):\n",
    "            end = \"а\"\n",
    "        else:\n",
    "            end = \"\"\n",
    "        print(f\"Запросов, содержащих {key} слов{end}: {val}%\")"
   ]
  },
  {
   "cell_type": "markdown",
   "metadata": {},
   "source": [
    "**Задание 4**. Дана статистика рекламных каналов по объемам продаж. Напишите скрипт, который возвращает название канала с максимальным объемом.\n",
    "Т. е. в данном примере скрипт должен возвращать 'yandex'."
   ]
  },
  {
   "cell_type": "code",
   "execution_count": 27,
   "metadata": {},
   "outputs": [
    {
     "name": "stdout",
     "output_type": "stream",
     "text": [
      "Канал: 'yandex'.\n"
     ]
    }
   ],
   "source": [
    "stats = {'facebook': 55, 'yandex': 120, 'vk': 115, 'google': 99, 'email': 42, 'ok': 98}\n",
    "\n",
    "if len(stats) == 0:\n",
    "    print(\"Нет данных\")\n",
    "else:\n",
    "    channels = []\n",
    "    max_ = max(stats.values())\n",
    "    for key, val in stats.items():\n",
    "        if val == max_:\n",
    "            channels.append(key)\n",
    "    if len(channels) == 1:\n",
    "        print(f\"Канал: '{channels[0]}'.\")\n",
    "    else:                                  # а вдруг значения повторяются?\n",
    "        ch = '';\n",
    "        for i, channel in enumerate(channels):\n",
    "            if i < len(channels) - 1:\n",
    "                ch += f\"'{channel}', \"\n",
    "            else:\n",
    "                ch += f\"'{channel}'.\"\n",
    "        print(f\"Каналы: {ch}\")"
   ]
  },
  {
   "cell_type": "markdown",
   "metadata": {},
   "source": [
    "**Задание 5**. Напишите код для преобразования произвольного списка вида ['2018-01-01', 'yandex', 'cpc', 100] (он может быть любой длины) в словарь {'2018-01-01': {'yandex': {'cpc': 100}}}"
   ]
  },
  {
   "cell_type": "code",
   "execution_count": 28,
   "metadata": {},
   "outputs": [
    {
     "name": "stdout",
     "output_type": "stream",
     "text": [
      "{'2018-01-01': {'yandex': {'cpc': 100}}}\n"
     ]
    }
   ],
   "source": [
    "lst = ['2018-01-01', 'yandex', 'cpc', 100]\n",
    "\n",
    "map_ = {}\n",
    "if len(lst) > 0:\n",
    "    ptr = map_\n",
    "    for i, item in enumerate(lst):\n",
    "        if i != len(lst) - 2:\n",
    "            ptr[item] = {}    # не описано как обрабатывать список из 1 элемента, поэтому считаю общим случаем\n",
    "            ptr = ptr[item]\n",
    "        else:\n",
    "            ptr[item] = lst[len(lst) - 1]\n",
    "            break\n",
    "print(map_)"
   ]
  }
 ],
 "metadata": {
  "kernelspec": {
   "display_name": "Python 3",
   "language": "python",
   "name": "python3"
  },
  "language_info": {
   "codemirror_mode": {
    "name": "ipython",
    "version": 3
   },
   "file_extension": ".py",
   "mimetype": "text/x-python",
   "name": "python",
   "nbconvert_exporter": "python",
   "pygments_lexer": "ipython3",
   "version": "3.7.6"
  }
 },
 "nbformat": 4,
 "nbformat_minor": 2
}
