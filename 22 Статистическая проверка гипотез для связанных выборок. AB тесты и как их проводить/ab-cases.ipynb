{
 "cells": [
  {
   "cell_type": "markdown",
   "metadata": {},
   "source": [
    "**Домашнее задание**\n",
    "\n",
    "1\\. Вам даны результаты проверки двух препаратов. Требуется оценить, есть ли различие в эффекте у этих пациентов.\n",
    "\n",
    "A - результаты для выборки людей получающих препарат А.  \n",
    "B - результаты для другой выборки людей, получающих препарат B.  \n",
    "```python\n",
    "np.random.seed(11)\n",
    "A=stats.norm.rvs(scale=30,loc=11,size=100)\n",
    "B=A+stats.norm.rvs(scale=54,loc=11,size=100)\n",
    "```\n"
   ]
  },
  {
   "cell_type": "code",
   "execution_count": 1,
   "metadata": {},
   "outputs": [
    {
     "name": "stdout",
     "output_type": "stream",
     "text": [
      "Поскольку люди, принимающие участие в эксперименте разные, значит выборки независимые.\n",
      "Воспользуемся критерием Манна-Уитни.\n",
      "Нулевая гипотеза: отличия в эффекте нет.\n",
      "p-value = 0.054347680446611354.\n",
      "Вывод: различия в эффекте нет.\n",
      "Забавно, по гистограммам такой вывод сложно сделать.\n"
     ]
    },
    {
     "data": {
      "image/png": "[encoded data removed]",
      "text/plain": [
       "<Figure size 432x288 with 1 Axes>"
      ]
     },
     "metadata": {
      "needs_background": "light"
     },
     "output_type": "display_data"
    }
   ],
   "source": [
    "import numpy as np\n",
    "import scipy.stats as stats\n",
    "import matplotlib.pyplot as plt\n",
    "import scipy.stats as stats\n",
    "from scipy.stats import mannwhitneyu\n",
    "from scipy.stats import wilcoxon\n",
    "from scipy.stats import f_oneway\n",
    "\n",
    "print(\"Поскольку люди, принимающие участие в эксперименте разные, значит выборки независимые.\")\n",
    "print(\"Воспользуемся критерием Манна-Уитни.\")\n",
    "print(\"Нулевая гипотеза: отличия в эффекте нет.\")\n",
    "\n",
    "np.random.seed(11)\n",
    "A = stats.norm.rvs(scale=30, loc=11, size=100)\n",
    "B = A + stats.norm.rvs(scale=54, loc=11, size=100)\n",
    "stat, pvalue = mannwhitneyu(A, B)\n",
    "print(f\"p-value = {pvalue}.\")\n",
    "if pvalue < 0.05:\n",
    "    print(\"Вывод: различие в эффекте есть.\")\n",
    "else:\n",
    "    print(\"Вывод: различия в эффекте нет.\")\n",
    "print(\"Забавно, по гистограммам такой вывод сложно сделать.\")\n",
    "    \n",
    "plt.hist(A, label=\"A\", bins=20)\n",
    "plt.hist(B, label=\"B\", bins=20, color=\"r\", alpha=0.7)\n",
    "plt.legend()\n",
    "plt.show()"
   ]
  },
  {
   "cell_type": "markdown",
   "metadata": {},
   "source": [
    "2\\. Вам даны результаты проверки двух препаратов. Требуется оценить, есть ли различие в эффекте у этих пациентов.  \n",
    "\n",
    "А - те же люди, но без препарата.  \n",
    "B - выборка получающая препарат B  \n",
    "```python\n",
    "np.random.seed(11)\n",
    "A=stats.norm.rvs(scale=30,loc=11,size=100)\n",
    "B=A+stats.norm.rvs(scale=54,loc=11,size=100)\n",
    "```"
   ]
  },
  {
   "cell_type": "code",
   "execution_count": 2,
   "metadata": {},
   "outputs": [
    {
     "name": "stdout",
     "output_type": "stream",
     "text": [
      "Поскольку люди, принимающие участие в эксперименте те же, значит выборки зависимые.\n",
      "Воспользуемся критерием Вилкоксона.\n",
      "Нулевая гипотеза: отличия в эффекте нет.\n",
      "p-value = 0.04077572901549266.\n",
      "Вывод: различие в эффекте есть.\n",
      "Итог: в зависимости от того, зависимые выборки или нет, при тех же данных можно получить разные резальтаты.\n"
     ]
    }
   ],
   "source": [
    "print(\"Поскольку люди, принимающие участие в эксперименте те же, значит выборки зависимые.\")\n",
    "print(\"Воспользуемся критерием Вилкоксона.\")\n",
    "print(\"Нулевая гипотеза: отличия в эффекте нет.\")\n",
    "\n",
    "np.random.seed(11)\n",
    "A = stats.norm.rvs(scale=30, loc=11, size=100)\n",
    "B = A + stats.norm.rvs(scale=54, loc=11, size=100)\n",
    "\n",
    "stat, pvalue = wilcoxon(A, B)\n",
    "print(f\"p-value = {pvalue}.\")\n",
    "if pvalue < 0.05:\n",
    "    print(\"Вывод: различие в эффекте есть.\")\n",
    "else:\n",
    "    print(\"Вывод: различия в эффекте нет.\")\n",
    "    \n",
    "print(\"Итог: в зависимости от того, зависимые выборки или нет, при тех же данных можно получить разные резальтаты.\")"
   ]
  },
  {
   "cell_type": "markdown",
   "metadata": {},
   "source": [
    "3\\. Допустим вы решили устроить дачный эксперимент. Берем и поливаем одни огурцы водой, другие огурцы водой с удобнением, третью группу огурцов будем поливать минералкой. Используя дисперсионный анализ, сделайте выводы о распредлениях результатов. Если ли эффект от удобрения по сравнению с минералкой?  \n",
    "```python\n",
    "water = [1,2,3,4,2,4,2,4,5,2,3,4,2,1,3,4,3,2,5,1]   \n",
    "nutri = [1,2,4,6,5,6,7,5,4,5,6,7,4,3,5,5,6,5,4,3,5]  \n",
    "mineral = [2,1,1,3,2,4,2,4,5,4,3,2,3,2,3,1,3,4,5,1,4]  \n",
    "```"
   ]
  },
  {
   "cell_type": "code",
   "execution_count": 3,
   "metadata": {},
   "outputs": [
    {
     "name": "stdout",
     "output_type": "stream",
     "text": [
      "Для нескольких выборок воспользуемся дисперсионным анализом.\n",
      "Нулевая гипотеза: отличия в эффекте нет.\n",
      "p-value = 2.9240047906326866e-05.\n",
      "Вывод: различие в эффекте есть.\n",
      "\n",
      "Поскольку отличия в эффекте между всеми экспериментами есть, то есть смысл\n",
      "сравнить отдельно применение удобрений и минералки.\n",
      "Группы огурцов разные, поэтому выборки независимые.\n",
      "Воспользуемся критерием Манна-Уитни.\n",
      "Нулевая гипотеза: отличия в эффекте нет.\n",
      "p-value = 0.00013713993666752782.\n",
      "Вывод: различие в эффекте есть.\n"
     ]
    }
   ],
   "source": [
    "water = [1,2,3,4,2,4,2,4,5,2,3,4,2,1,3,4,3,2,5,1]\n",
    "nutri = [1,2,4,6,5,6,7,5,4,5,6,7,4,3,5,5,6,5,4,3,5]\n",
    "mineral = [2,1,1,3,2,4,2,4,5,4,3,2,3,2,3,1,3,4,5,1,4]\n",
    "\n",
    "print(\"Для нескольких выборок воспользуемся дисперсионным анализом.\")\n",
    "print(\"Нулевая гипотеза: отличия в эффекте нет.\")\n",
    "\n",
    "f, pvalue = f_oneway(water, nutri, mineral)\n",
    "print(f\"p-value = {pvalue}.\")\n",
    "if pvalue < 0.05:\n",
    "    print(\"Вывод: различие в эффекте есть.\")\n",
    "else:\n",
    "    print(\"Вывод: различия в эффекте нет.\")\n",
    "    \n",
    "print(\"\\nПоскольку отличия в эффекте между всеми экспериментами есть, то есть смысл\")\n",
    "print(\"сравнить отдельно применение удобрений и минералки.\")\n",
    "print(\"Группы огурцов разные, поэтому выборки независимые.\")\n",
    "print(\"Воспользуемся критерием Манна-Уитни.\")\n",
    "print(\"Нулевая гипотеза: отличия в эффекте нет.\")\n",
    "\n",
    "stat, pvalue = mannwhitneyu(nutri, mineral)\n",
    "print(f\"p-value = {pvalue}.\")\n",
    "if pvalue < 0.05:\n",
    "    print(\"Вывод: различие в эффекте есть.\")\n",
    "else:\n",
    "    print(\"Вывод: различия в эффекте нет.\")"
   ]
  },
  {
   "cell_type": "markdown",
   "metadata": {},
   "source": [
    "4\\. **Cookie Cats** - чрезвычайно популярная мобильная игра-головоломка, разработанная Tactile Entertainment. Это классическая игра-головоломка в стиле «соедините три», в которой игрок должен соединять плитки одного цвета, чтобы очистить поле и выиграть уровень. Здесь также есть поющие кошки.\n",
    "\n",
    "По мере прохождения уровней игры игроки время от времени сталкиваются с воротами, которые заставляют их ждать нетривиальное количество времени или совершать покупки в приложении, чтобы продолжить. Помимо стимулирования покупок в приложении, эти ворота служат важной цели - дать игрокам вынужденный перерыв в игре, что, как мы надеемся, приведет к увеличению и продлению удовольствия от игры.  \n",
    "\n",
    "Но где ставить ворота? Первоначально первые ворота были размещены на уровне 30. В этом проекте вам предлагается проанализировать AB-тест, в котором создатели переместили первые ворота в Cookie Cats с 30 уровня на уровень 40. В частности, вам надо рассмотреть влияние A/B теста на удержание игроков.\n",
    "\n",
    "***Данные A/B тестирования***"
   ]
  },
  {
   "cell_type": "code",
   "execution_count": 4,
   "metadata": {},
   "outputs": [
    {
     "data": {
      "text/html": [
       "<div>\n",
       "<style scoped>\n",
       "    .dataframe tbody tr th:only-of-type {\n",
       "        vertical-align: middle;\n",
       "    }\n",
       "\n",
       "    .dataframe tbody tr th {\n",
       "        vertical-align: top;\n",
       "    }\n",
       "\n",
       "    .dataframe thead th {\n",
       "        text-align: right;\n",
       "    }\n",
       "</style>\n",
       "<table border=\"1\" class=\"dataframe\">\n",
       "  <thead>\n",
       "    <tr style=\"text-align: right;\">\n",
       "      <th></th>\n",
       "      <th>userid</th>\n",
       "      <th>version</th>\n",
       "      <th>sum_gamerounds</th>\n",
       "      <th>retention_1</th>\n",
       "      <th>retention_7</th>\n",
       "    </tr>\n",
       "  </thead>\n",
       "  <tbody>\n",
       "    <tr>\n",
       "      <th>0</th>\n",
       "      <td>116</td>\n",
       "      <td>gate_30</td>\n",
       "      <td>3</td>\n",
       "      <td>False</td>\n",
       "      <td>False</td>\n",
       "    </tr>\n",
       "    <tr>\n",
       "      <th>1</th>\n",
       "      <td>337</td>\n",
       "      <td>gate_30</td>\n",
       "      <td>38</td>\n",
       "      <td>True</td>\n",
       "      <td>False</td>\n",
       "    </tr>\n",
       "    <tr>\n",
       "      <th>2</th>\n",
       "      <td>377</td>\n",
       "      <td>gate_40</td>\n",
       "      <td>165</td>\n",
       "      <td>True</td>\n",
       "      <td>False</td>\n",
       "    </tr>\n",
       "    <tr>\n",
       "      <th>3</th>\n",
       "      <td>483</td>\n",
       "      <td>gate_40</td>\n",
       "      <td>1</td>\n",
       "      <td>False</td>\n",
       "      <td>False</td>\n",
       "    </tr>\n",
       "    <tr>\n",
       "      <th>4</th>\n",
       "      <td>488</td>\n",
       "      <td>gate_40</td>\n",
       "      <td>179</td>\n",
       "      <td>True</td>\n",
       "      <td>True</td>\n",
       "    </tr>\n",
       "  </tbody>\n",
       "</table>\n",
       "</div>"
      ],
      "text/plain": [
       "   userid  version  sum_gamerounds  retention_1  retention_7\n",
       "0     116  gate_30               3        False        False\n",
       "1     337  gate_30              38         True        False\n",
       "2     377  gate_40             165         True        False\n",
       "3     483  gate_40               1        False        False\n",
       "4     488  gate_40             179         True         True"
      ]
     },
     "execution_count": 4,
     "metadata": {},
     "output_type": "execute_result"
    }
   ],
   "source": [
    "import pandas as pd\n",
    "\n",
    "data = pd.read_csv('cookie_cats.csv')\n",
    "data.head()"
   ]
  },
  {
   "cell_type": "markdown",
   "metadata": {},
   "source": [
    "Данные получены от 90 189 игроков, которые установили игру во время проведения AB-теста.   Переменные:  \n",
    "**userid** - уникальный номер, идентифицирующий каждого игрока.  \n",
    "**version** - был ли игрок помещен в контрольную группу (gate_30 - ворота на уровне 30) или в тестовую группу (gate_40 - ворота на уровне 40).  \n",
    "**sum_gamerounds** - количество игровых раундов, сыгранных игроком в течение первой недели после установки.  \n",
    "**retention_1** - игрок вернулся и поиграл через 1 день после установки?  \n",
    "**retention_7** - игрок вернулся и играл через 7 дней после установки?  \n",
    "\n",
    "Когда игрок устанавливал игру, ему случайным образом назначали gate_30 или gate_40."
   ]
  },
  {
   "cell_type": "code",
   "execution_count": 5,
   "metadata": {},
   "outputs": [
    {
     "data": {
      "text/html": [
       "<div>\n",
       "<style scoped>\n",
       "    .dataframe tbody tr th:only-of-type {\n",
       "        vertical-align: middle;\n",
       "    }\n",
       "\n",
       "    .dataframe tbody tr th {\n",
       "        vertical-align: top;\n",
       "    }\n",
       "\n",
       "    .dataframe thead th {\n",
       "        text-align: right;\n",
       "    }\n",
       "</style>\n",
       "<table border=\"1\" class=\"dataframe\">\n",
       "  <thead>\n",
       "    <tr style=\"text-align: right;\">\n",
       "      <th></th>\n",
       "      <th>userid</th>\n",
       "      <th>sum_gamerounds</th>\n",
       "      <th>retention_1</th>\n",
       "      <th>retention_7</th>\n",
       "    </tr>\n",
       "    <tr>\n",
       "      <th>version</th>\n",
       "      <th></th>\n",
       "      <th></th>\n",
       "      <th></th>\n",
       "      <th></th>\n",
       "    </tr>\n",
       "  </thead>\n",
       "  <tbody>\n",
       "    <tr>\n",
       "      <th>gate_30</th>\n",
       "      <td>44700</td>\n",
       "      <td>44700</td>\n",
       "      <td>44700</td>\n",
       "      <td>44700</td>\n",
       "    </tr>\n",
       "    <tr>\n",
       "      <th>gate_40</th>\n",
       "      <td>45489</td>\n",
       "      <td>45489</td>\n",
       "      <td>45489</td>\n",
       "      <td>45489</td>\n",
       "    </tr>\n",
       "  </tbody>\n",
       "</table>\n",
       "</div>"
      ],
      "text/plain": [
       "         userid  sum_gamerounds  retention_1  retention_7\n",
       "version                                                  \n",
       "gate_30   44700           44700        44700        44700\n",
       "gate_40   45489           45489        45489        45489"
      ]
     },
     "execution_count": 5,
     "metadata": {},
     "output_type": "execute_result"
    }
   ],
   "source": [
    "# Сгрупируем результаты теста по версиям игры.\n",
    "counts = data.groupby('version').count()\n",
    "counts"
   ]
  },
  {
   "cell_type": "code",
   "execution_count": 6,
   "metadata": {},
   "outputs": [
    {
     "name": "stdout",
     "output_type": "stream",
     "text": [
      "Выборки независимы и их размеры примерно совпадают (в выборке gate_30 на 1.73% меньше игроков, чем в gate_40)\n"
     ]
    }
   ],
   "source": [
    "c1 = counts.loc[\"gate_30\", \"userid\"]\n",
    "c2 = counts.loc[\"gate_40\", \"userid\"]\n",
    "diff = round((c2 - c1) * 100 / c2, 2)\n",
    "print(f\"Выборки независимы и их размеры примерно совпадают (в выборке gate_30 на {diff}% меньше игроков, чем в gate_40)\")"
   ]
  },
  {
   "cell_type": "code",
   "execution_count": 7,
   "metadata": {},
   "outputs": [
    {
     "data": {
      "image/png": "[encoded data removed]",
      "text/plain": [
       "<Figure size 864x360 with 1 Axes>"
      ]
     },
     "metadata": {
      "needs_background": "light"
     },
     "output_type": "display_data"
    }
   ],
   "source": [
    "# Подсчет количества игроков для каждого количества раундов\n",
    "fig, ax = plt.subplots(figsize=(12, 5))\n",
    "plot_df = data.groupby('sum_gamerounds')['userid'].count()\n",
    "plot_df.hist(ax=ax, bins=150)  # попробуйте поварировать bins=150\n",
    "ax.set_title(\"Гистограмма раудов в логарифмическом масштабе\")\n",
    "ax.set_xlabel(\"Кол-во раудов\")\n",
    "ax.set_ylabel(\"Кол-во игроков\")\n",
    "ax.set_yscale('log')\n",
    "plt.show()"
   ]
  },
  {
   "cell_type": "code",
   "execution_count": 8,
   "metadata": {},
   "outputs": [
    {
     "name": "stdout",
     "output_type": "stream",
     "text": [
      "Больше всего игров прошли мало раундов, единицы прошли более 1000 раундов.\n"
     ]
    }
   ],
   "source": [
    "print(\"Больше всего игров прошли мало раундов, единицы прошли более 1000 раундов.\")"
   ]
  },
  {
   "cell_type": "code",
   "execution_count": 9,
   "metadata": {},
   "outputs": [
    {
     "data": {
      "image/png": "[encoded data removed]",
      "text/plain": [
       "<Figure size 720x432 with 1 Axes>"
      ]
     },
     "metadata": {
      "needs_background": "light"
     },
     "output_type": "display_data"
    }
   ],
   "source": [
    "# Построим график распределения игроков, сыгравших от 0 до 100 игровых раундов в течение своей первой недели игры.\n",
    "%matplotlib inline\n",
    "\n",
    "ax = plot_df[:100].plot(figsize=(10,6))\n",
    "ax.set_title(\"The number of players that played 0-100 game rounds during the first week\")\n",
    "ax.set_ylabel(\"Number of Players\")\n",
    "ax.set_xlabel('# Game rounds');\n",
    "plt.show()"
   ]
  },
  {
   "cell_type": "code",
   "execution_count": 10,
   "metadata": {},
   "outputs": [
    {
     "name": "stdout",
     "output_type": "stream",
     "text": [
      "Больше всего игроков, сыгравших 1 игру. Далее с возрастанием кол-во раундов кол-во игроков умньшается.\n"
     ]
    }
   ],
   "source": [
    "print(\"Больше всего игроков, сыгравших 1 игру. Далее с возрастанием кол-во раундов кол-во игроков умньшается.\")"
   ]
  },
  {
   "cell_type": "code",
   "execution_count": 11,
   "metadata": {},
   "outputs": [
    {
     "name": "stdout",
     "output_type": "stream",
     "text": [
      "Рассмотрим распределение средних по возврат к игре на 7 день.\n"
     ]
    },
    {
     "data": {
      "image/png": "[encoded data removed]",
      "text/plain": [
       "<Figure size 432x288 with 1 Axes>"
      ]
     },
     "metadata": {
      "needs_background": "light"
     },
     "output_type": "display_data"
    }
   ],
   "source": [
    "print(\"Рассмотрим распределение средних по возврат к игре на 7 день.\")\n",
    "\n",
    "# Creating an list with bootstrapped means for each AB-group\n",
    "boot_1d = []\n",
    "for i in range(1000):\n",
    "    boot_mean = data.sample(frac=1, replace=True).groupby('version')['retention_7'].mean()\n",
    "    boot_1d.append(boot_mean)\n",
    "    \n",
    "# Преобразование списка в DataFrame\n",
    "boot_1d = pd.DataFrame(boot_1d)\n",
    "    \n",
    "# A Kernel Density Estimate plot of the bootstrap distributions\n",
    "boot_1d.plot(kind='density');"
   ]
  },
  {
   "cell_type": "code",
   "execution_count": 12,
   "metadata": {},
   "outputs": [
    {
     "name": "stdout",
     "output_type": "stream",
     "text": [
      "Согласно графику распределение выборочных средних показывает, что в среднем на 7-ой день\n",
      "в игру возвращалось больше игроков.\n",
      "Проверим это расчетом.\n",
      "Воспользуемся t-тестом Стьюдента.\n",
      "Нулевая гипотеза: на 7-ой день будет примерно одно и то же кол-во вернувшихся к игре игроков.\n",
      "p-value = 0.0.\n",
      "Вывод: к игре на 7-ой день вернулось разное кол-во игроков.\n",
      "Причем, вернулось больше игроков, для которых ворота были на 30 уровне.\n"
     ]
    }
   ],
   "source": [
    "print(\"Согласно графику распределение выборочных средних показывает, что в среднем на 7-ой день\")\n",
    "print(\"в игру возвращалось больше игроков.\")\n",
    "print(\"Проверим это расчетом.\")\n",
    "print(\"Воспользуемся t-тестом Стьюдента.\")\n",
    "print(\"Нулевая гипотеза: на 7-ой день будет примерно одно и то же кол-во вернувшихся к игре игроков.\")\n",
    "\n",
    "stat, pvalue = stats.ttest_ind(boot_1d[\"gate_30\"], boot_1d[\"gate_40\"])\n",
    "print(f\"p-value = {pvalue}.\")\n",
    "if pvalue < 0.05:\n",
    "    print(\"Вывод: к игре на 7-ой день вернулось разное кол-во игроков.\")\n",
    "    if stat > 0:\n",
    "        print(\"Причем, вернулось больше игроков, для которых ворота были на 30 уровне.\")\n",
    "    else:\n",
    "        print(\"Причем, вернулось больше игроков, для которых ворота были на 40 уровне.\")\n",
    "else:\n",
    "    print(\"Вывод: к игре на 7-ой день вернулось примерно одно и то же кол-во игроков.\")"
   ]
  },
  {
   "cell_type": "code",
   "execution_count": 13,
   "metadata": {},
   "outputs": [
    {
     "name": "stdout",
     "output_type": "stream",
     "text": [
      "Посмотрим распределение средних по возврат к игре на 1 день\n"
     ]
    },
    {
     "data": {
      "image/png": "[encoded data removed]",
      "text/plain": [
       "<Figure size 432x288 with 1 Axes>"
      ]
     },
     "metadata": {
      "needs_background": "light"
     },
     "output_type": "display_data"
    }
   ],
   "source": [
    "print(\"Посмотрим распределение средних по возврат к игре на 1 день\")\n",
    "\n",
    "# Creating an list with bootstrapped means for each AB-group\n",
    "boot_1d = []\n",
    "for i in range(1000):\n",
    "    boot_mean = data.sample(frac=1, replace=True).groupby('version')['retention_1'].mean()\n",
    "    boot_1d.append(boot_mean)\n",
    "    \n",
    "# Преобразование списка в DataFrame\n",
    "boot_1d = pd.DataFrame(boot_1d)\n",
    "    \n",
    "# A Kernel Density Estimate plot of the bootstrap distributions\n",
    "boot_1d.plot(kind='density');"
   ]
  },
  {
   "cell_type": "code",
   "execution_count": 14,
   "metadata": {},
   "outputs": [
    {
     "name": "stdout",
     "output_type": "stream",
     "text": [
      "Согласно графику распределение выборочных средних показывает, что в среднем в 1-ый день\n",
      "в игру возвращалось больше игроков.\n",
      "Проверим это расчетом.\n",
      "Воспользуемся t-тестом Стьюдента.\n",
      "Нулевая гипотеза: в 1-ый день будет примерно одно и то же кол-во вернувшихся к игре игроков.\n",
      "p-value = 0.0.\n",
      "Вывод: к игре в 1-ый день вернулось разное кол-во игроков.\n",
      "Причем, вернулось больше игроков, для которых ворота были на 30 уровне.\n"
     ]
    }
   ],
   "source": [
    "print(\"Согласно графику распределение выборочных средних показывает, что в среднем в 1-ый день\")\n",
    "print(\"в игру возвращалось больше игроков.\")\n",
    "print(\"Проверим это расчетом.\")\n",
    "print(\"Воспользуемся t-тестом Стьюдента.\")\n",
    "print(\"Нулевая гипотеза: в 1-ый день будет примерно одно и то же кол-во вернувшихся к игре игроков.\")\n",
    "\n",
    "stat, pvalue = stats.ttest_ind(boot_1d[\"gate_30\"], boot_1d[\"gate_40\"])\n",
    "print(f\"p-value = {pvalue}.\")\n",
    "if pvalue < 0.05:\n",
    "    print(\"Вывод: к игре в 1-ый день вернулось разное кол-во игроков.\")\n",
    "    if stat > 0:\n",
    "        print(\"Причем, вернулось больше игроков, для которых ворота были на 30 уровне.\")\n",
    "    else:\n",
    "        print(\"Причем, вернулось больше игроков, для которых ворота были на 40 уровне.\")\n",
    "else:\n",
    "    print(\"Вывод: к игре в 1-ый день вернулось примерно одно и то же кол-во игроков.\")"
   ]
  },
  {
   "cell_type": "code",
   "execution_count": 15,
   "metadata": {},
   "outputs": [
    {
     "name": "stdout",
     "output_type": "stream",
     "text": [
      "Итог: тот факт, что больше всего игроков, сыгравших 1 раунд, а дальше это кол-во убывает, говорит о том, \n",
      "что по мере игры и с течением времени игроки отсеиваются.\n",
      "Выборочные средние показали, что игроки возвращаются к игре на 1 и 7 дни чаще при воротах на 30 уровне.\n",
      "Получается, что игроков дошедших до ворот на 40 уровне меньше, чем до ворот на 30.\n",
      "Из всего вышесказанного можно заключить, что ворота лучше оставить на 30 уровне.\n"
     ]
    }
   ],
   "source": [
    "print(\"Итог: тот факт, что больше всего игроков, сыгравших 1 раунд, а дальше это кол-во убывает, говорит о том, \")\n",
    "print(\"что по мере игры и с течением времени игроки отсеиваются.\")\n",
    "print(\"Выборочные средние показали, что игроки возвращаются к игре на 1 и 7 дни чаще при воротах на 30 уровне.\")\n",
    "print(\"Получается, что игроков дошедших до ворот на 40 уровне меньше, чем до ворот на 30.\")\n",
    "print(\"Из всего вышесказанного можно заключить, что ворота лучше оставить на 30 уровне.\")"
   ]
  }
 ],
 "metadata": {
  "kernelspec": {
   "display_name": "Python 3",
   "language": "python",
   "name": "python3"
  },
  "language_info": {
   "codemirror_mode": {
    "name": "ipython",
    "version": 3
   },
   "file_extension": ".py",
   "mimetype": "text/x-python",
   "name": "python",
   "nbconvert_exporter": "python",
   "pygments_lexer": "ipython3",
   "version": "3.7.6"
  }
 },
 "nbformat": 4,
 "nbformat_minor": 4
}
