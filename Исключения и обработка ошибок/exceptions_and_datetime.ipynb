{
 "cells": [
  {
   "cell_type": "markdown",
   "metadata": {},
   "source": [
    "**Задание 1**  \n",
    "Печатные газеты использовали свой формат дат для каждого выпуска. Для каждой газеты из списка напишите формат указанной даты для перевода в объект datetime:  \n",
    "The Moscow Times - Wednesday, October 2, 2002  \n",
    "The Guardian - Friday, 11.10.13  \n",
    "Daily News - Thursday, 18 August 1977  "
   ]
  },
  {
   "cell_type": "code",
   "execution_count": 2,
   "metadata": {},
   "outputs": [
    {
     "name": "stdout",
     "output_type": "stream",
     "text": [
      "2002-10-02\n",
      "2013-10-11\n",
      "1977-08-18\n"
     ]
    }
   ],
   "source": [
    "from datetime import datetime\n",
    "\n",
    "dates = [{ \"newspaper\": \"The Moscow Times\", \"date\": \"Wednesday, October 2, 2002\" },\n",
    "         { \"newspaper\": \"The Guardian\", \"date\": \"Friday, 11.10.13\" },\n",
    "         { \"newspaper\": \"Daily News\", \"date\": \"Thursday, 18 August 1977\" },\n",
    "        ]\n",
    "\n",
    "def parse_as_mt(str):\n",
    "    try:\n",
    "        return datetime.strptime(str, \"%A, %B %d, %Y\").strftime(\"%Y-%m-%d\")\n",
    "    except:\n",
    "        pass\n",
    "\n",
    "def parse_as_gd(str): # газета великобританская, стало быть месяц на 2-ом месте в дате, а год - на 3-ем\n",
    "    try:\n",
    "        return datetime.strptime(str, \"%A, %d.%m.%y\").strftime(\"%Y-%m-%d\")\n",
    "    except:\n",
    "        pass\n",
    "\n",
    "def parse_as_dn(str):\n",
    "    try:\n",
    "        return datetime.strptime(str, \"%A, %d %B %Y\").strftime(\"%Y-%m-%d\")\n",
    "    except:\n",
    "        pass\n",
    "\n",
    "parsers = {\"The Moscow Times\": parse_as_mt,\n",
    "           \"The Guardian\": parse_as_gd,\n",
    "           \"Daily News\": parse_as_dn,\n",
    "          }\n",
    "\n",
    "error_counter_list = 0\n",
    "error_counter_format = 0\n",
    "for record in dates:\n",
    "    try:\n",
    "        result = parsers[record[\"newspaper\"]](record[\"date\"]);\n",
    "        if result is None:\n",
    "            error_counter_format += 1\n",
    "        else:\n",
    "            print(result)\n",
    "    except:\n",
    "        error_counter_list += 1\n",
    "        \n",
    "if error_counter_list:\n",
    "    print(f\"Неверный формат списка дат: {error_counter_list} раз(а)\")\n",
    "if error_counter_format:\n",
    "    print(f\"Неверный формат даты: {error_counter_format} раз(а)\")"
   ]
  },
  {
   "cell_type": "markdown",
   "metadata": {},
   "source": [
    "**Задание 2**  \n",
    "Дан поток дат в формате YYYY-MM-DD, в которых встречаются некорректные значения:  \n",
    "```python\n",
    "stream = ['2018-04-02', '2018-02-29', '2018-19-02']\n",
    "```\n",
    "  \n",
    "Напишите функцию, которая проверяет эти даты на корректность. Т. е. для каждой даты возвращает True (дата корректна) или False (некорректная дата)."
   ]
  },
  {
   "cell_type": "code",
   "execution_count": 3,
   "metadata": {},
   "outputs": [
    {
     "name": "stdout",
     "output_type": "stream",
     "text": [
      "Дата '2018-04-02' корректна\n",
      "Дата '2018-02-29' некорректна\n",
      "Дата '2018-19-02' некорректна\n"
     ]
    }
   ],
   "source": [
    "from datetime import datetime\n",
    "\n",
    "stream = ['2018-04-02', '2018-02-29', '2018-19-02']\n",
    "\n",
    "def is_correct_date(str):\n",
    "    try:\n",
    "        datetime.strptime(str, \"%Y-%m-%d\")\n",
    "        return True\n",
    "    except:\n",
    "        return False\n",
    "    \n",
    "for str in stream:\n",
    "    if is_correct_date(str):\n",
    "        print(f\"Дата '{str}' корректна\")\n",
    "    else:\n",
    "        print(f\"Дата '{str}' некорректна\")"
   ]
  },
  {
   "cell_type": "markdown",
   "metadata": {},
   "source": [
    "**Задание 3**  \n",
    "Напишите функцию date_range, которая возвращает список дат за период от start_date до end_date. Даты должны вводиться в формате YYYY-MM-DD. В случае неверного формата или при start_date > end_date должен возвращаться пустой список."
   ]
  },
  {
   "cell_type": "code",
   "execution_count": 9,
   "metadata": {},
   "outputs": [
    {
     "name": "stdout",
     "output_type": "stream",
     "text": [
      "Введите начальную дату [YYYY-MM-DD]: 2020-07-14\n",
      "Введите конечную дату [YYYY-MM-DD]:2020-07-17\n",
      "Список дат: ['2020-07-14', '2020-07-15', '2020-07-16', '2020-07-17']\n"
     ]
    }
   ],
   "source": [
    "from datetime import datetime\n",
    "from datetime import timedelta\n",
    "\n",
    "def date_range(start_date, end_date):\n",
    "    lst = []\n",
    "    try:\n",
    "        start = datetime.strptime(start_date, \"%Y-%m-%d\")\n",
    "        end = datetime.strptime(end_date, \"%Y-%m-%d\")\n",
    "    except:\n",
    "        return lst\n",
    "    \n",
    "    while start <= end:\n",
    "        lst.append(start.strftime(\"%Y-%m-%d\"))\n",
    "        start += timedelta(days=1)\n",
    "        \n",
    "    return lst\n",
    "\n",
    "\n",
    "st = input(\"Введите начальную дату [YYYY-MM-DD]: \")\n",
    "en = input(\"Введите конечную дату [YYYY-MM-DD]:\")\n",
    "print(\"Список дат:\", date_range(st, en))"
   ]
  },
  {
   "cell_type": "markdown",
   "metadata": {},
   "source": [
    "**Задание 4 (бонусное)**  \n",
    "Ваш коллега прислал код функции:  \n",
    "\n",
    "```python\n",
    "DEFAULT_USER_COUNT = 3  \n",
    "  \n",
    "def delete_and_return_last_user(region, default_list=['A100', 'A101', 'A102']):\n",
    "    \"\"\"\n",
    "    Удаляет из списка default_list последнего пользователя\n",
    "    и возвращает ID нового последнего пользователя.\n",
    "    \"\"\"\n",
    "    element_to_delete = default_list[-1]\n",
    "    default_list.remove(element_to_delete)\n",
    "    \n",
    "    return default_list[DEFAULT_USER_COUNT-2]\n",
    "```\n",
    "  \n",
    "При однократном вызове этой функции все работает корректно:  \n",
    "```python\n",
    "delete_and_return_last_user(1)\n",
    "```\n",
    "'A101'  \n",
    "  \n",
    "Однако, при повторном вызове получается ошибка IndexError: list index out of range.  \n",
    "  \n",
    "***Задание***:  \n",
    "1. Что значит ошибка list index out of range?  \n",
    "2. Почему при первом запуске функция работает корректно, а при втором - нет?  "
   ]
  },
  {
   "cell_type": "markdown",
   "metadata": {},
   "source": [
    "***Ответы***:\n",
    "1. Происходит выход за границы списка: обращение к несуществующему индексу\n",
    "2. Значение DEFAULT_USER_COUNT-2 равно 1.  \n",
    "При 1-ом запуске перед вызовом return в списке будет содержаться 2 элемента и индекс 1 будет доступен.  \n",
    "при 2-ом запуске перед вызовом return в списке будет содержаться 1 элемент и будет обращение к несуществующему  индексу.  \n",
    "\n",
    "PS: за такой код руки обрывать надо =)"
   ]
  }
 ],
 "metadata": {
  "kernelspec": {
   "display_name": "Python 3",
   "language": "python",
   "name": "python3"
  },
  "language_info": {
   "codemirror_mode": {
    "name": "ipython",
    "version": 3
   },
   "file_extension": ".py",
   "mimetype": "text/x-python",
   "name": "python",
   "nbconvert_exporter": "python",
   "pygments_lexer": "ipython3",
   "version": "3.7.6"
  }
 },
 "nbformat": 4,
 "nbformat_minor": 4
}
